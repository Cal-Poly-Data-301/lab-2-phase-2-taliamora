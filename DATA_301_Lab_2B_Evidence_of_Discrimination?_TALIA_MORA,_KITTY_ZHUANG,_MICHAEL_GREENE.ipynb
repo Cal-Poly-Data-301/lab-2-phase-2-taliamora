{
  "nbformat": 4,
  "nbformat_minor": 0,
  "metadata": {
    "kernelspec": {
      "display_name": "Python 3",
      "language": "python",
      "name": "python3"
    },
    "language_info": {
      "codemirror_mode": {
        "name": "ipython",
        "version": 3
      },
      "file_extension": ".py",
      "mimetype": "text/x-python",
      "name": "python",
      "nbconvert_exporter": "python",
      "pygments_lexer": "ipython3",
      "version": "3.6.4"
    },
    "colab": {
      "name": "DATA 301 Lab 2B. Evidence of Discrimination? - TALIA MORA, KITTY ZHUANG, MICHAEL GREENE",
      "provenance": [],
      "collapsed_sections": [],
      "include_colab_link": true
    }
  },
  "cells": [
    {
      "cell_type": "markdown",
      "metadata": {
        "id": "view-in-github",
        "colab_type": "text"
      },
      "source": [
        "<a href=\"https://colab.research.google.com/github/taliamora/lab-2-phase-2-taliamora/blob/main/DATA_301_Lab_2B_Evidence_of_Discrimination%3F_TALIA_MORA%2C_KITTY_ZHUANG%2C_MICHAEL_GREENE.ipynb\" target=\"_parent\"><img src=\"https://colab.research.google.com/assets/colab-badge.svg\" alt=\"Open In Colab\"/></a>"
      ]
    },
    {
      "cell_type": "markdown",
      "metadata": {
        "id": "3GRr9ej57rEW"
      },
      "source": [
        "# Evidence of Discrimination?\n",
        "\n",
        "The Department of Developmental Services (DDS) in California is responsible for allocating funds to support over 250,000 developmentally-disabled residents. The data set `https://dlsun.github.io/pods/data/ca_dds_expenditures.csv` contains data about 1,000 of these residents. The data comes from a discrimination lawsuit which alleged that California's Department of Developmental Services (DDS) privileged white (non-Hispanic) residents over Hispanic residents in allocating funds. We will focus on comparing the allocation of funds (i.e., expenditures) for these two ethnicities only, although there are other ethnicities in this data set.\n",
        "\n",
        "There are 6 variables in this data set:\n",
        "\n",
        "- Id:  5-digit, unique identification code for each consumer (similar to a social security number and used for identification purposes)  \n",
        "- Age Cohort:  Binned age variable represented as six age cohorts (0-5, 6-12, 13-17, 18-21, 22-50, and 51+)\n",
        "- Age:  Unbinned age variable\n",
        "- Gender:  Male or Female\n",
        "- Expenditures:  Dollar amount of annual expenditures spent on each consumer\n",
        "- Ethnicity:  Eight ethnic groups (American Indian, Asian, Black, Hispanic, Multi-race, Native Hawaiian, Other, and White non-Hispanic)"
      ]
    },
    {
      "cell_type": "markdown",
      "metadata": {
        "id": "pBrvxdVd7rEY"
      },
      "source": [
        "# Question 1\n",
        "\n",
        "Read in the data set. Make a graphic that compares the _average_ expenditures by the DDS on Hispanic residents and white (non-Hispanic) residents. Comment on what you see."
      ]
    },
    {
      "cell_type": "code",
      "metadata": {
        "id": "HPu1DTOY7rEa",
        "outputId": "b5578cf7-e240-4a63-c95d-4aadea2ce5b4",
        "colab": {
          "base_uri": "https://localhost:8080/",
          "height": 449
        }
      },
      "source": [
        "import pandas as pd\n",
        "import matplotlib as plt\n",
        "\n",
        "df_dds = pd.read_csv('https://dlsun.github.io/pods/data/ca_dds_expenditures.csv')\n",
        "\n",
        "ethnicities_of_interest = ['White not Hispanic','Hispanic']\n",
        "df_hispanic_white = df_dds.loc[df_dds['Ethnicity'].isin(ethnicities_of_interest)]\n",
        "\n",
        "df_expenditures = df_hispanic_white[['Ethnicity','Expenditures']].groupby('Ethnicity')\n",
        "expenditure_comp = df_expenditures['Expenditures'].mean()\n",
        "\n",
        "\n",
        "\n",
        "expenditure_comp.plot.bar(\n",
        "    title='Comparison of Expenditures: White (non-hispanic) vs Hispanic',\n",
        "    xlabel='Ethnicity',\n",
        "    ylabel='Average Anual Expenditure ($)')\n",
        "\n",
        "\n",
        "expenditure_comp"
      ],
      "execution_count": 1,
      "outputs": [
        {
          "output_type": "execute_result",
          "data": {
            "text/plain": [
              "Ethnicity\n",
              "Hispanic              11065.569149\n",
              "White not Hispanic    24697.548628\n",
              "Name: Expenditures, dtype: float64"
            ]
          },
          "metadata": {},
          "execution_count": 1
        },
        {
          "output_type": "display_data",
          "data": {
            "image/png": "[encoded data removed]",
            "text/plain": [
              "<Figure size 432x288 with 1 Axes>"
            ]
          },
          "metadata": {
            "needs_background": "light"
          }
        }
      ]
    },
    {
      "cell_type": "markdown",
      "source": [
        "**There is a clear distinction between the average expenditures alocated to White (non-Hispanic) residents over Hispanic residents**"
      ],
      "metadata": {
        "id": "2FPIJtqOQs2n"
      }
    },
    {
      "cell_type": "markdown",
      "metadata": {
        "id": "CmxE7M3o7rEg"
      },
      "source": [
        "# Question 2\n",
        "\n",
        "Now, calculate the average expenditures by ethnicity and age cohort. Make a graphic that compares the average expenditure on Hispanic residents and white (non-Hispanic) residents, _within each age cohort_. \n",
        "\n",
        "Comment on what you see. How do these results appear to contradict the results you obtained in Question 1?"
      ]
    },
    {
      "cell_type": "code",
      "metadata": {
        "id": "u_J1LRI37rEh",
        "outputId": "51fc4440-b23f-4932-b9e9-96af27d1c5c0",
        "colab": {
          "base_uri": "https://localhost:8080/",
          "height": 344
        }
      },
      "source": [
        "df_expenditures_age = df_hispanic_white[['Ethnicity','Expenditures','Age Cohort']].groupby(['Ethnicity','Age Cohort'])\n",
        "expenditure_comp_age = df_expenditures_age['Expenditures'].mean()\n",
        "\n",
        "'''\n",
        "cols = df_hispanic_white[\"Ethnicity\"].map({\n",
        "    \"White not Hispanic\": \"blue\",\n",
        "    \"Hispanic\": \"green\"\n",
        "})\n",
        "'''\n",
        "expenditure_comp_age = expenditure_comp_age.unstack(level=0)\n",
        "\n",
        "\n",
        "expenditure_comp_age.plot.bar(\n",
        "    title='Comparison of Expenditures: White (non-hispanic) vs Hispanic',\n",
        "    xlabel='Ethnicity',\n",
        "    ylabel='Average Anual Expenditure ($)')"
      ],
      "execution_count": 2,
      "outputs": [
        {
          "output_type": "execute_result",
          "data": {
            "text/plain": [
              "<matplotlib.axes._subplots.AxesSubplot at 0x7f96680d8590>"
            ]
          },
          "metadata": {},
          "execution_count": 2
        },
        {
          "output_type": "display_data",
          "data": {
            "image/png": "[encoded data removed]",
            "text/plain": [
              "<Figure size 432x288 with 1 Axes>"
            ]
          },
          "metadata": {
            "needs_background": "light"
          }
        }
      ]
    },
    {
      "cell_type": "markdown",
      "metadata": {
        "id": "CFriAmRB7rEl"
      },
      "source": [
        "**Looking purely at the above bar plot it seems as though the allocation of funds to each age group is even between the two ethnicities**"
      ]
    },
    {
      "cell_type": "markdown",
      "metadata": {
        "id": "vNJHIPO77rEm"
      },
      "source": [
        "# Question 3\n",
        "\n",
        "Can you explain the discrepancy between the two analyses you conducted above (i.e., Questions 1 and 2)? Try to tell a complete story that interweaves tables, graphics, and explanation.\n",
        "\n",
        "_Hint:_ You might want to consider looking at:\n",
        "\n",
        "- the distributions of ages of Hispanics and whites\n",
        "- the average expenditure as a function of age"
      ]
    },
    {
      "cell_type": "code",
      "metadata": {
        "id": "mo4aLinP7rEn",
        "colab": {
          "base_uri": "https://localhost:8080/",
          "height": 143
        },
        "outputId": "427524d0-5027-49bd-e0f5-8210069d6952"
      },
      "source": [
        "joint_eth_age = pd.crosstab(df_hispanic_white['Ethnicity'],df_hispanic_white['Age Cohort'],normalize=True)\n",
        "\n",
        "eth_totals = joint_eth_age.sum(axis=1)\n",
        "joint_eth_age.divide(eth_totals,axis=0)"
      ],
      "execution_count": 3,
      "outputs": [
        {
          "output_type": "execute_result",
          "data": {
            "text/html": [
              "\n",
              "  <div id=\"df-ecdeb6e3-a378-4b7a-af21-cfd85ea0786f\">\n",
              "    <div class=\"colab-df-container\">\n",
              "      <div>\n",
              "<style scoped>\n",
              "    .dataframe tbody tr th:only-of-type {\n",
              "        vertical-align: middle;\n",
              "    }\n",
              "\n",
              "    .dataframe tbody tr th {\n",
              "        vertical-align: top;\n",
              "    }\n",
              "\n",
              "    .dataframe thead th {\n",
              "        text-align: right;\n",
              "    }\n",
              "</style>\n",
              "<table border=\"1\" class=\"dataframe\">\n",
              "  <thead>\n",
              "    <tr style=\"text-align: right;\">\n",
              "      <th>Age Cohort</th>\n",
              "      <th>0 to 5</th>\n",
              "      <th>13 to 17</th>\n",
              "      <th>18 to 21</th>\n",
              "      <th>22 to 50</th>\n",
              "      <th>51+</th>\n",
              "      <th>6 to 12</th>\n",
              "    </tr>\n",
              "    <tr>\n",
              "      <th>Ethnicity</th>\n",
              "      <th></th>\n",
              "      <th></th>\n",
              "      <th></th>\n",
              "      <th></th>\n",
              "      <th></th>\n",
              "      <th></th>\n",
              "    </tr>\n",
              "  </thead>\n",
              "  <tbody>\n",
              "    <tr>\n",
              "      <th>Hispanic</th>\n",
              "      <td>0.117021</td>\n",
              "      <td>0.273936</td>\n",
              "      <td>0.207447</td>\n",
              "      <td>0.114362</td>\n",
              "      <td>0.045213</td>\n",
              "      <td>0.242021</td>\n",
              "    </tr>\n",
              "    <tr>\n",
              "      <th>White not Hispanic</th>\n",
              "      <td>0.049875</td>\n",
              "      <td>0.167082</td>\n",
              "      <td>0.172070</td>\n",
              "      <td>0.331671</td>\n",
              "      <td>0.164589</td>\n",
              "      <td>0.114713</td>\n",
              "    </tr>\n",
              "  </tbody>\n",
              "</table>\n",
              "</div>\n",
              "      <button class=\"colab-df-convert\" onclick=\"convertToInteractive('df-ecdeb6e3-a378-4b7a-af21-cfd85ea0786f')\"\n",
              "              title=\"Convert this dataframe to an interactive table.\"\n",
              "              style=\"display:none;\">\n",
              "        \n",
              "  <svg xmlns=\"http://www.w3.org/2000/svg\" height=\"24px\"viewBox=\"0 0 24 24\"\n",
              "       width=\"24px\">\n",
              "    <path d=\"M0 0h24v24H0V0z\" fill=\"none\"/>\n",
              "    <path d=\"M18.56 5.44l.94 2.06.94-2.06 2.06-.94-2.06-.94-.94-2.06-.94 2.06-2.06.94zm-11 1L8.5 8.5l.94-2.06 2.06-.94-2.06-.94L8.5 2.5l-.94 2.06-2.06.94zm10 10l.94 2.06.94-2.06 2.06-.94-2.06-.94-.94-2.06-.94 2.06-2.06.94z\"/><path d=\"M17.41 7.96l-1.37-1.37c-.4-.4-.92-.59-1.43-.59-.52 0-1.04.2-1.43.59L10.3 9.45l-7.72 7.72c-.78.78-.78 2.05 0 2.83L4 21.41c.39.39.9.59 1.41.59.51 0 1.02-.2 1.41-.59l7.78-7.78 2.81-2.81c.8-.78.8-2.07 0-2.86zM5.41 20L4 18.59l7.72-7.72 1.47 1.35L5.41 20z\"/>\n",
              "  </svg>\n",
              "      </button>\n",
              "      \n",
              "  <style>\n",
              "    .colab-df-container {\n",
              "      display:flex;\n",
              "      flex-wrap:wrap;\n",
              "      gap: 12px;\n",
              "    }\n",
              "\n",
              "    .colab-df-convert {\n",
              "      background-color: #E8F0FE;\n",
              "      border: none;\n",
              "      border-radius: 50%;\n",
              "      cursor: pointer;\n",
              "      display: none;\n",
              "      fill: #1967D2;\n",
              "      height: 32px;\n",
              "      padding: 0 0 0 0;\n",
              "      width: 32px;\n",
              "    }\n",
              "\n",
              "    .colab-df-convert:hover {\n",
              "      background-color: #E2EBFA;\n",
              "      box-shadow: 0px 1px 2px rgba(60, 64, 67, 0.3), 0px 1px 3px 1px rgba(60, 64, 67, 0.15);\n",
              "      fill: #174EA6;\n",
              "    }\n",
              "\n",
              "    [theme=dark] .colab-df-convert {\n",
              "      background-color: #3B4455;\n",
              "      fill: #D2E3FC;\n",
              "    }\n",
              "\n",
              "    [theme=dark] .colab-df-convert:hover {\n",
              "      background-color: #434B5C;\n",
              "      box-shadow: 0px 1px 3px 1px rgba(0, 0, 0, 0.15);\n",
              "      filter: drop-shadow(0px 1px 2px rgba(0, 0, 0, 0.3));\n",
              "      fill: #FFFFFF;\n",
              "    }\n",
              "  </style>\n",
              "\n",
              "      <script>\n",
              "        const buttonEl =\n",
              "          document.querySelector('#df-ecdeb6e3-a378-4b7a-af21-cfd85ea0786f button.colab-df-convert');\n",
              "        buttonEl.style.display =\n",
              "          google.colab.kernel.accessAllowed ? 'block' : 'none';\n",
              "\n",
              "        async function convertToInteractive(key) {\n",
              "          const element = document.querySelector('#df-ecdeb6e3-a378-4b7a-af21-cfd85ea0786f');\n",
              "          const dataTable =\n",
              "            await google.colab.kernel.invokeFunction('convertToInteractive',\n",
              "                                                     [key], {});\n",
              "          if (!dataTable) return;\n",
              "\n",
              "          const docLinkHtml = 'Like what you see? Visit the ' +\n",
              "            '<a target=\"_blank\" href=https://colab.research.google.com/notebooks/data_table.ipynb>data table notebook</a>'\n",
              "            + ' to learn more about interactive tables.';\n",
              "          element.innerHTML = '';\n",
              "          dataTable['output_type'] = 'display_data';\n",
              "          await google.colab.output.renderOutput(dataTable, element);\n",
              "          const docLink = document.createElement('div');\n",
              "          docLink.innerHTML = docLinkHtml;\n",
              "          element.appendChild(docLink);\n",
              "        }\n",
              "      </script>\n",
              "    </div>\n",
              "  </div>\n",
              "  "
            ],
            "text/plain": [
              "Age Cohort            0 to 5  13 to 17  18 to 21  22 to 50       51+   6 to 12\n",
              "Ethnicity                                                                     \n",
              "Hispanic            0.117021  0.273936  0.207447  0.114362  0.045213  0.242021\n",
              "White not Hispanic  0.049875  0.167082  0.172070  0.331671  0.164589  0.114713"
            ]
          },
          "metadata": {},
          "execution_count": 3
        }
      ]
    },
    {
      "cell_type": "code",
      "source": [
        "df_White_Hispanic = df_dds.groupby(\"Ethnicity\")[\"Age Cohort\"].value_counts()[[\"Hispanic\",\"White not Hispanic\"]]\n",
        "df_White_Hispanic.unstack(level = 0).plot.bar()"
      ],
      "metadata": {
        "colab": {
          "base_uri": "https://localhost:8080/",
          "height": 328
        },
        "id": "IsZQehHRt8jV",
        "outputId": "204b0fb8-bc81-476c-df81-bf20a17cd1f4"
      },
      "execution_count": 4,
      "outputs": [
        {
          "output_type": "execute_result",
          "data": {
            "text/plain": [
              "<matplotlib.axes._subplots.AxesSubplot at 0x7f9667353690>"
            ]
          },
          "metadata": {},
          "execution_count": 4
        },
        {
          "output_type": "display_data",
          "data": {
            "image/png": "[encoded data removed]",
            "text/plain": [
              "<Figure size 432x288 with 1 Axes>"
            ]
          },
          "metadata": {
            "needs_background": "light"
          }
        }
      ]
    },
    {
      "cell_type": "markdown",
      "source": [
        "**Although at first the initial bar plot seemed to indicate that the allocation of funds to each age group is even between the two ethnicities, this does not account for the size of each age cohort. Further analyses reveals that the majority of White individuals fall in the 22 to 50 age range (which has a significant allocation of funds for both ethnicities) whereas the majority of Hispanic individuals fall within the 13-17 age range and this is one of the lowest allocations of funds.**"
      ],
      "metadata": {
        "id": "KW5B7FcSYxS2"
      }
    },
    {
      "cell_type": "markdown",
      "metadata": {
        "id": "4JdcqKm57rEr"
      },
      "source": [
        "## Submission Instructions\n",
        "\n",
        "- Copy this notebook to your own Drive, if you have not already.\n",
        "- Restart this notebook and run the cells from beginning to end. \n",
        "  - Go to Runtime > Restart and Run All.\n",
        "- Rename this notebook by clicking on \"DATA 301 Lab 2B - YOUR NAME HERE\" at the very top of this page. Replace \"YOUR NAMES HERE\" with the first and last names of you (and your partners, for Phase 2).\n",
        "- Get the link to your notebook:\n",
        "  - Click on \"Share\" at the top-right. \n",
        "  - Change the settings to \"Anyone with the link can view\". \n",
        "  - Copy the sharing link into Canvas."
      ]
    }
  ]
}